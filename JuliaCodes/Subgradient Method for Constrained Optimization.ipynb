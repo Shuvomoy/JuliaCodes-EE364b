{
 "metadata": {
  "language": "Julia",
  "name": "",
  "signature": "sha256:30c1b241d44d43904d601d0d9303ae5c905159d2f832792985f6cf5be6fc7d95"
 },
 "nbformat": 3,
 "nbformat_minor": 0,
 "worksheets": [
  {
   "cells": [
    {
     "cell_type": "markdown",
     "metadata": {},
     "source": [
      "We consider the implementation of alternate subgradient method which solves the following optimization problem:\n",
      "\\begin{align}\n",
      "&\\textrm{minimize} \\quad f_0(x) \\\\\n",
      "&\\textrm{subject to} \\quad \\forall i \\in \\{1,\\ldots,m\\} \\quad f_i(x)\\leq0,\n",
      "\\end{align}\n",
      "where $f_i:\\mathbb{R}^n \\rightarrow \\mathbb{R}$ are convex. The update rule is the same as seen before:\n",
      "\\begin{align}\n",
      "x^{(k+1)}=x^{(k)}-\\alpha_{k} g^{(k)},\n",
      "\\end{align}\n",
      "however, now $g^{(k)}$ will depend on the feasibility of the current point $x^{k}$. Suppose, $h(x)=\\textrm{max}_{i \\in \\{1,\\ldots,m\\}}{f_i(x)}$. Then,\n",
      "\\begin{align}\n",
      "g^{(k)}=\\begin{cases}\n",
      " \\partial f_0(x^{(k)}), \\; &\\textrm{if} \\; h(x^{(k)})\\leq0, \\; \\textrm{i.e.,} \\; x^{(k)} \\; \\textrm{feasible}\\\\\n",
      "\\partial h(x^{(k)}) \\; &\\textrm{else}.\n",
      "\\end{cases}\n",
      "\\end{align}\n",
      "\n",
      "The step lengths are chosen as\n",
      "\\begin{align}\n",
      "\\alpha_k=\\begin{cases}\n",
      " (f_0(x^{(k)})-f^*)/\\|g^{(k)}\\|_2^2, \\; &\\textrm{if} \\; x^{(k)} \\; \\textrm{feasible} \\\\\n",
      " (f_i(x^{(k)})+\\epsilon)/\\|g^{(k)}\\|_2^2,  \\; &\\textrm{else}.\n",
      "\\end{cases}\n",
      "\\end{align}"
     ]
    },
    {
     "cell_type": "markdown",
     "metadata": {},
     "source": [
      "We will apply the alternate subgradient method to a general form linear optimization problem.\n",
      "\\begin{align}\n",
      "&\\textrm{minimize} \\quad c^T x \\\\\n",
      "&\\textrm{subject to} \\quad \\forall i \\in \\{1,\\ldots,m\\} \\quad a_i^T x \\leq b_i,\n",
      "\\end{align}\n",
      "We generate the data in a manner that the problem has a finite optimum (otherwise we cannot test if the subgradient method is working!), i.e., the feasible set is nonempty and there is no extreme ray $d$ such that $c^T d < 0$. \n",
      "\n",
      "To ensure a nonempty feasible set we have a nonnegative $b=(b_1,\\ldots,b_m)$, so that $x=0$ is a feasible point. \n",
      "\n",
      "To prevent having a extreme ray leading to a cost unbounded below, we take $c=-A^T p$, where $p\\succeq 0$ is a randomly generated vector. For any extreme ray $d$ in the polyhedron there will exist a nonpositive vector $q$ such that $A d =-q$ (in fact any ray will satisfy this). Then no matter what $d$ we pick, $c^T d=(-A^T p)^T(A d)=-p^T (A d) = (-p)^T (-q) =p^T q \\geq 0$, so the optimal cost is finite."
     ]
    },
    {
     "cell_type": "code",
     "collapsed": false,
     "input": [
      "n=20\n",
      "\n",
      "m=100\n",
      "\n",
      "A=randn(m,n)\n",
      "\n",
      "b=abs(randn(m,1)) \n",
      "\n",
      "c=-A'*abs(randn(m,1)) "
     ],
     "language": "python",
     "metadata": {},
     "outputs": [
      {
       "metadata": {},
       "output_type": "pyout",
       "prompt_number": 13,
       "text": [
        "20x1 Array{Float64,2}:\n",
        "  11.8554 \n",
        "   9.11255\n",
        "   1.38845\n",
        "  -6.88313\n",
        "  11.2945 \n",
        "  -4.11999\n",
        "   2.20051\n",
        "   2.25793\n",
        " -13.8604 \n",
        "  13.7328 \n",
        "  -8.20609\n",
        "  -3.23834\n",
        "  -8.92258\n",
        " -10.7669 \n",
        "  12.0445 \n",
        "  -6.17908\n",
        "  -4.02083\n",
        "   9.10532\n",
        "  -5.90859\n",
        "   2.9657 "
       ]
      }
     ],
     "prompt_number": 13
    },
    {
     "cell_type": "markdown",
     "metadata": {},
     "source": [
      "Now we solve the problem using `Convex`. We will use the result to choose the step size."
     ]
    },
    {
     "cell_type": "code",
     "collapsed": false,
     "input": [
      "using Convex\n",
      "\n",
      "using SCS\n",
      "\n",
      "xMin=Variable(n)\n",
      "\n",
      "problem=minimize(    c'*xMin,\n",
      "        #subject to\n",
      "                    A*xMin<=b)\n",
      "\n",
      "solve!(problem,SCSSolver())\n",
      "\n",
      "print(\n",
      "\"The status of the solution is \", problem.status,\n",
      "\"\\nwith optimal objective value, f(x*)=\", problem.optval,\n",
      ")\n",
      "xMinValue=xMin.value\n",
      "fMinValue=problem.optval"
     ],
     "language": "python",
     "metadata": {},
     "outputs": [
      {
       "output_type": "stream",
       "stream": "stdout",
       "text": [
        "The status of the solution is "
       ]
      },
      {
       "output_type": "stream",
       "stream": "stdout",
       "text": [
        "Optimal\n",
        "with optimal objective value, f(x*)=-6.979636309506132"
       ]
      },
      {
       "metadata": {},
       "output_type": "pyout",
       "prompt_number": 14,
       "text": [
        "-6.979636309506132"
       ]
      }
     ],
     "prompt_number": 14
    },
    {
     "cell_type": "markdown",
     "metadata": {},
     "source": [
      "Now we write a function to implement the alternate subgradient method."
     ]
    },
    {
     "cell_type": "code",
     "collapsed": false,
     "input": [
      "# Function that will implement projected subgradient method\n",
      "# ---------------------------------------------------------\n",
      "function alternate_subgradient_ineq_LP(\n",
      "    A::Array{Float64,2},\n",
      "    b::Array{Float64,2},\n",
      "    c::Array{Float64,2},\n",
      "    x1::Array{Float64,2},\n",
      "    maxIter::Int64\n",
      "    )\n",
      "fSet=Float64[] # We are creating an empty array where we will store the objective values as we progress\n",
      "push!(fSet,Inf) # Intial value of f is infinity\n",
      "\n",
      "fBest=Float64[] # It is an array where the last element will give f_best^{(k)} so far\n",
      "push!(fBest, Inf) # Intial best value of f is infinity\n",
      "\n",
      "k=1\n",
      "x=x1\n",
      "  \n",
      "while(k < maxIter)\n",
      "    # Print the current iteration\n",
      "\n",
      "# Checking the feasibility of the current iterate\n",
      "constraintVector=A*x-b\n",
      "h=maximum(constraintVector)\n",
      "ind=indmax(constraintVector)\n",
      "\n",
      "# Determining the subgradient, updating fSet and fBest, and determining the step size depending on the feasibility of the current iterate\n",
      "if(h>0)# infeasible\n",
      "  g=A[ind,:]'\n",
      "  \u03b1=(h+\u03f5)/(norm(g)^2)\n",
      "  push!(fSet,Inf)\n",
      "  push!(fBest,fBest[end])# Best f value will not change \n",
      "else #feasible\n",
      "  g=c\n",
      "  fKval=(c'*x)[1,1]\n",
      "  \u03b1=(fKval-fMinValue)/(norm(g)^2)\n",
      "  push!(fSet,fKval)\n",
      "  push!(fBest, min(fBest[end],fKval))\n",
      "end\n",
      " \n",
      "# updating subgradient\n",
      "x=x-\u03b1*g\n",
      "if (mod(k,100)==0)\n",
      "  println(\"At iteration number=\",k)\n",
      "  println(\"Current best value of f=\", fBest[end])\n",
      "end    \n",
      "k=k+1\n",
      "end # while\n",
      "return x, fSet, fBest\n",
      "end # function\n"
     ],
     "language": "python",
     "metadata": {},
     "outputs": [
      {
       "metadata": {},
       "output_type": "pyout",
       "prompt_number": 15,
       "text": [
        "alternate_subgradient_ineq_LP (generic function with 1 method)"
       ]
      }
     ],
     "prompt_number": 15
    },
    {
     "cell_type": "code",
     "collapsed": false,
     "input": [
      "x1=zeros(n,1)\n",
      "\u03f5=1e-3\n",
      "maxIter=3000"
     ],
     "language": "python",
     "metadata": {},
     "outputs": [
      {
       "metadata": {},
       "output_type": "pyout",
       "prompt_number": 16,
       "text": [
        "3000"
       ]
      }
     ],
     "prompt_number": 16
    },
    {
     "cell_type": "markdown",
     "metadata": {},
     "source": [
      "Let's run the function for the current data with $0$ as the starting feasible point."
     ]
    },
    {
     "cell_type": "code",
     "collapsed": false,
     "input": [
      "x1=zeros(n,1)\n",
      "\u03f5=1e-3\n",
      "maxIter=3000\n",
      "(xTest,fTest,fBestTest)=alternate_subgradient_ineq_LP(A,b,c,x1,maxIter)"
     ],
     "language": "python",
     "metadata": {},
     "outputs": [
      {
       "output_type": "stream",
       "stream": "stdout",
       "text": [
        "At iteration number="
       ]
      },
      {
       "output_type": "stream",
       "stream": "stdout",
       "text": [
        "100\n",
        "Current best value of f=-5.450083109919154\n",
        "At iteration number=200\n",
        "Current best value of f=-5.614308614289082\n",
        "At iteration number=300\n",
        "Current best value of f=-5.703239067884826\n",
        "At iteration number=400\n",
        "Current best value of f=-5.835287720349045\n",
        "At iteration number=500\n",
        "Current best value of f=-5.952974908194274\n",
        "At iteration number=600\n",
        "Current best value of f=-6.049427689913004\n",
        "At iteration number=700\n",
        "Current best value of f=-6.165332353500256\n",
        "At iteration number=800\n",
        "Current best value of f=-6.206326125333209\n",
        "At iteration number=900\n",
        "Current best value of f=-6.278491992131651\n",
        "At iteration number=1000\n",
        "Current best value of f=-6.34116761866385\n",
        "At iteration number=1100\n",
        "Current best value of f=-6.3847370103934775\n",
        "At iteration number=1200\n",
        "Current best value of f=-6.412511055866619\n",
        "At iteration number=1300\n",
        "Current best value of f=-6.476672823664339\n",
        "At iteration number=1400\n",
        "Current best value of f=-6.497059206200993\n",
        "At iteration number=1500\n",
        "Current best value of f=-6.542138674047012\n",
        "At iteration number=1600\n",
        "Current best value of f=-6.571916578209762\n",
        "At iteration number=1700\n",
        "Current best value of f=-6.606102757905508\n",
        "At iteration number=1800\n",
        "Current best value of f=-6.629244527374161\n",
        "At iteration number=1900\n",
        "Current best value of f=-6.659937266652632\n",
        "At iteration number=2000\n",
        "Current best value of f=-6.690418386124115\n",
        "At iteration number=2100\n",
        "Current best value of f=-6.707284537972992\n",
        "At iteration number=2200\n",
        "Current best value of f=-6.721549214279016\n",
        "At iteration number=2300\n",
        "Current best value of f=-6.7555641613999775\n",
        "At iteration number=2400\n",
        "Current best value of f=-6.765133172466109\n",
        "At iteration number=2500\n",
        "Current best value of f=-6.774133505775753\n",
        "At iteration number=2600\n",
        "Current best value of f=-6.7893375636484325\n",
        "At iteration number=2700\n",
        "Current best value of f=-6.789623852357104\n",
        "At iteration number=2800\n",
        "Current best value of f=-6.791220170210107\n",
        "At iteration number=2900\n",
        "Current best value of f=-6.803097624150005\n"
       ]
      },
      {
       "metadata": {},
       "output_type": "pyout",
       "prompt_number": 17,
       "text": [
        "(\n",
        "20x1 Array{Float64,2}:\n",
        " -0.181265  \n",
        " -0.213302  \n",
        " -0.105308  \n",
        " -0.0466105 \n",
        " -0.031399  \n",
        " -0.0799105 \n",
        " -0.0832833 \n",
        " -0.0865174 \n",
        "  0.0797812 \n",
        " -0.0908816 \n",
        " -0.0247272 \n",
        " -0.0996257 \n",
        "  0.0837221 \n",
        " -0.0191309 \n",
        "  0.00654876\n",
        " -0.0240963 \n",
        " -0.00674767\n",
        " -0.0784566 \n",
        " -0.0690574 \n",
        " -0.0287183 ,\n",
        "\n",
        "[Inf,0.0,Inf,Inf,Inf,Inf,Inf,Inf,Inf,Inf  \u2026  Inf,Inf,Inf,-6.78915,Inf,Inf,Inf,Inf,Inf,Inf],[Inf,0.0,0.0,0.0,0.0,0.0,0.0,0.0,0.0,0.0  \u2026  -6.8031,-6.8031,-6.8031,-6.8031,-6.8031,-6.8031,-6.8031,-6.8031,-6.8031,-6.8031])"
       ]
      }
     ],
     "prompt_number": 17
    },
    {
     "cell_type": "markdown",
     "metadata": {},
     "source": [
      "Finally we plot $f_{\\textrm{best}}^{(k)}$ versus $k$."
     ]
    },
    {
     "cell_type": "code",
     "collapsed": false,
     "input": [
      "#Plotting time\n",
      "#-------------\n",
      "using Winston\n",
      "iters=[1:maxIter]\n",
      "figAltSub = FramedPlot(\n",
      "title=\"The value of f_{best}^{(k)} - f^{*} vs. iteration number\",\n",
      "         xlabel=\"k\",\n",
      "         ylabel=\"f_{best}^{(k)} - f^{*}\",\n",
      "yrange=(1e-2,1e0),\n",
      "ylog=true\n",
      ")\n",
      "xAxis=iters\n",
      "curve1=fBestTest-fMinValue\n",
      "bl=Curve(xAxis, curve1, color=\"blue\")\n",
      "setattr(bl, label=\"0.1/k\")\n",
      "le=Legend(.1,.1,{bl})\n",
      "add(figAltSub,bl)"
     ],
     "language": "python",
     "metadata": {},
     "outputs": [
      {
       "metadata": {},
       "output_type": "pyout",
       "png": "[encoded data removed]",
       "prompt_number": 19,
       "text": [
        "FramedPlot(...)"
       ]
      }
     ],
     "prompt_number": 19
    },
    {
     "cell_type": "code",
     "collapsed": false,
     "input": [],
     "language": "python",
     "metadata": {},
     "outputs": []
    }
   ],
   "metadata": {}
  }
 ]
}