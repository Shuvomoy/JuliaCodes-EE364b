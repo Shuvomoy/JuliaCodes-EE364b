{
 "metadata": {
  "language": "Julia",
  "name": "",
  "signature": "sha256:9d80b6d3dbbc8844585074d7c9c73c34bcb37860597b58f0c1d7d00f011dab55"
 },
 "nbformat": 3,
 "nbformat_minor": 0,
 "worksheets": [
  {
   "cells": [
    {
     "cell_type": "markdown",
     "metadata": {},
     "source": [
      "## Projected subgradient method\n",
      "\n",
      "Projected subgradient method solves the following problem:\n",
      "\n",
      "\\begin{align}\n",
      "&\\textrm{minimize} \\quad f(x) \\\\\n",
      "&\\textrm{subject to}\\quad x \\in \\mathcal{C},\n",
      "\\end{align}\n",
      "\n",
      "where $\\mathcal{C}$ is a convex set. The projected subgradient algorithm is given by \n",
      "\n",
      "\\begin{align}\n",
      "x^{(k+1)}=\\Pi(x^{(k)}-\\alpha_k g^{(k)}),\n",
      "\\end{align}\n",
      "\n",
      "where $\\Pi$ is the Eucledian projection on $\\mathcal{C}$ and $g^{(k)} \\in \\partial f(x^{k})$. Projected subgradient method converges for square summable but nonsummable sequence.\n",
      "\n",
      "For an example of the projected subgradient method, we will consider the following problem\n",
      "\n",
      "\\begin{align}\n",
      "&\\textrm{minimize} \\quad \\|x\\|_1 \\\\\n",
      "&\\textrm{subject to}\\quad A x=b.\n",
      "\\end{align}\n",
      "\n",
      "Subgradient of the objective is $g=\\mathop{\\bf sign}(x)$, and the projected subgradient update can be shown to be equal to\n",
      "\n",
      "\\begin{align}\n",
      "x^{(k+1)}=x^{(k)}-\\alpha_k (I-A^T (A A^T)^{-1} A) \\mathop{\\bf sign}(x^{(k)}).\n",
      "\\end{align}\n",
      "\n",
      "First, we generate the problem data."
     ]
    },
    {
     "cell_type": "code",
     "collapsed": false,
     "input": [
      "# Problem Data\n",
      "#-------------\n",
      "n=1000# Number of variables\n",
      "m=50 # Number of equality constraints\n",
      "A=randn(m,n)\n",
      "b=randn(m,1)"
     ],
     "language": "python",
     "metadata": {},
     "outputs": [
      {
       "metadata": {},
       "output_type": "pyout",
       "prompt_number": 2,
       "text": [
        "50x1 Array{Float64,2}:\n",
        " -0.0642792\n",
        " -0.423571 \n",
        " -2.00111  \n",
        " -0.18871  \n",
        " -0.650412 \n",
        " -0.414676 \n",
        " -1.78014  \n",
        "  0.243627 \n",
        "  0.23049  \n",
        " -0.726133 \n",
        "  2.44415  \n",
        "  0.416351 \n",
        " -0.441475 \n",
        "  \u22ee        \n",
        "  0.502789 \n",
        " -0.257399 \n",
        "  1.37962  \n",
        " -1.42828  \n",
        " -2.33732  \n",
        " -2.33343  \n",
        "  0.454961 \n",
        " -1.50793  \n",
        " -0.904257 \n",
        "  1.48388  \n",
        " -0.902557 \n",
        " -1.78198  "
       ]
      }
     ],
     "prompt_number": 2
    },
    {
     "cell_type": "markdown",
     "metadata": {},
     "source": [
      "Next, we solve the problem using `Convex` and store the result."
     ]
    },
    {
     "cell_type": "code",
     "collapsed": false,
     "input": [
      "# Solving using convex\n",
      "#---------------------\n",
      "using Convex\n",
      "using SCS\n",
      "xCvx=Variable(n)\n",
      "problem=minimize( norm(xCvx,1),\n",
      "#     subject to\n",
      "                A*xCvx==b)\n",
      "\n",
      "solve!(problem, SCSSolver())\n",
      "\n",
      "print(\n",
      "\"The status of the solution is \", problem.status,\n",
      "\"\\nwith optimal objective value, f(x*)=\", problem.optval,\n",
      ")\n",
      "xMinValue=xCvx.value\n",
      "fMinValue=problem.optval"
     ],
     "language": "python",
     "metadata": {},
     "outputs": [
      {
       "output_type": "stream",
       "stream": "stdout",
       "text": [
        "The status of the solution is "
       ]
      },
      {
       "output_type": "stream",
       "stream": "stdout",
       "text": [
        "Optimal\n",
        "with optimal objective value, f(x*)=3.372691516645854"
       ]
      },
      {
       "metadata": {},
       "output_type": "pyout",
       "prompt_number": 3,
       "text": [
        "3.372691516645854"
       ]
      }
     ],
     "prompt_number": 3
    },
    {
     "cell_type": "markdown",
     "metadata": {},
     "source": [
      "To implement the projected subgradient method, we will need an initial feasible point first, which is calculated as follows."
     ]
    },
    {
     "cell_type": "code",
     "collapsed": false,
     "input": [
      "#Finding an initial feasible point\n",
      "#--------------------------------\n",
      "x1=pinv(A)*b"
     ],
     "language": "python",
     "metadata": {},
     "outputs": [
      {
       "metadata": {},
       "output_type": "pyout",
       "prompt_number": 4,
       "text": [
        "1000x1 Array{Float64,2}:\n",
        "  0.00296297 \n",
        " -0.00626243 \n",
        "  0.0042182  \n",
        " -0.00279391 \n",
        " -0.0109943  \n",
        " -0.00641182 \n",
        "  0.000974713\n",
        " -0.0096517  \n",
        "  0.00163389 \n",
        "  0.00685429 \n",
        " -0.00630441 \n",
        "  0.00228094 \n",
        "  0.00972739 \n",
        "  \u22ee          \n",
        " -0.0113853  \n",
        " -0.0071479  \n",
        "  0.011015   \n",
        "  0.000468357\n",
        " -0.000133829\n",
        "  0.0167986  \n",
        " -0.0219155  \n",
        " -0.0127325  \n",
        " -0.0212214  \n",
        "  0.0144215  \n",
        "  0.00589296 \n",
        "  0.017542   "
       ]
      }
     ],
     "prompt_number": 4
    },
    {
     "cell_type": "markdown",
     "metadata": {},
     "source": [
      "Now we write the function that will implement projected subgradient method."
     ]
    },
    {
     "cell_type": "code",
     "collapsed": false,
     "input": [
      "# Function that will implement projected subgradient method\n",
      "# ---------------------------------------------------------\n",
      "function proj_sub_method_l1norm(\n",
      "    A::Array{Float64,2},\n",
      "    b::Array{Float64,2},\n",
      "    x1::Array{Float64,2},\n",
      "    a::Float64,\n",
      "    maxIter::Int64\n",
      "    )\n",
      "fSet=Float64[] # We are creating an empty array where we will store the objective values as we progress\n",
      "push!(fSet,Inf) # Intial value of f is infinity\n",
      "\n",
      "fBest=Float64[] # It is an array where the last element will give f_best^{(k)} so far\n",
      "push!(fBest, Inf) # Intial best value of f is infinity\n",
      "M=eye(n)-A'*inv(A*A')*A # This is the matrix that is going to be used in updating x\n",
      "  # x^{(k+1)}=x_{(k)}-\\alpha_{k} M g^{(k)}\n",
      "k=1\n",
      "x=x1\n",
      "while(k < maxIter)\n",
      "        if (mod(k,100)==0)\n",
      "            println(\"Iteration number=\",k)\n",
      "        end\n",
      "# Value of the function at kth iteration\n",
      "fKval=norm(x,1)\n",
      "# Subgradient of ||x||\u2081 is sign(x)=(sign(x\u2081),...,sign(x\u2099))\n",
      "g=(x.>0)-(x.<0)\n",
      "\n",
      "#step size selection\n",
      "\u03b1=a/k\n",
      "\n",
      "# Push the current value of f(x^(k)) in fSet\n",
      "push!(fSet,fKval)\n",
      "\n",
      "# Note how we are pushing the best f found so far in the last element of f\n",
      "push!(fBest, min(fBest[end],fKval))\n",
      "# Subgradient update:\n",
      "x=x-\u03b1*M*g\n",
      "k=k+1\n",
      "end # while\n",
      "return x, fSet, fBest\n",
      "end # function"
     ],
     "language": "python",
     "metadata": {},
     "outputs": [
      {
       "metadata": {},
       "output_type": "pyout",
       "prompt_number": 6,
       "text": [
        "proj_sub_method_l1norm (generic function with 1 method)"
       ]
      }
     ],
     "prompt_number": 6
    },
    {
     "cell_type": "markdown",
     "metadata": {},
     "source": [
      "Let's implement the function for $\\alpha = \\frac{0.1}{k}$ with $3000$ iterations, it will take a while."
     ]
    },
    {
     "cell_type": "code",
     "collapsed": false,
     "input": [
      "a=0.1\n",
      "maxIter=3000\n",
      "(x, fSet, fBest)=proj_sub_method_l1norm(A, b, x1, 0.1 , maxIter)"
     ],
     "language": "python",
     "metadata": {},
     "outputs": [
      {
       "output_type": "stream",
       "stream": "stdout",
       "text": [
        "Iteration number="
       ]
      },
      {
       "output_type": "stream",
       "stream": "stdout",
       "text": [
        "100\n",
        "Iteration number="
       ]
      },
      {
       "output_type": "stream",
       "stream": "stdout",
       "text": [
        "200\n"
       ]
      },
      {
       "output_type": "stream",
       "stream": "stdout",
       "text": [
        "Iteration number=300\n"
       ]
      },
      {
       "output_type": "stream",
       "stream": "stdout",
       "text": [
        "Iteration number=400\n",
        "Iteration number="
       ]
      },
      {
       "output_type": "stream",
       "stream": "stdout",
       "text": [
        "500\n",
        "Iteration number="
       ]
      },
      {
       "output_type": "stream",
       "stream": "stdout",
       "text": [
        "600\n",
        "Iteration number="
       ]
      },
      {
       "output_type": "stream",
       "stream": "stdout",
       "text": [
        "700\n"
       ]
      },
      {
       "output_type": "stream",
       "stream": "stdout",
       "text": [
        "Iteration number=800\n",
        "Iteration number="
       ]
      },
      {
       "output_type": "stream",
       "stream": "stdout",
       "text": [
        "900\n"
       ]
      },
      {
       "output_type": "stream",
       "stream": "stdout",
       "text": [
        "Iteration number=1000\n",
        "Iteration number="
       ]
      },
      {
       "output_type": "stream",
       "stream": "stdout",
       "text": [
        "1100\n",
        "Iteration number="
       ]
      },
      {
       "output_type": "stream",
       "stream": "stdout",
       "text": [
        "1200\n"
       ]
      },
      {
       "output_type": "stream",
       "stream": "stdout",
       "text": [
        "Iteration number=1300\n"
       ]
      },
      {
       "output_type": "stream",
       "stream": "stdout",
       "text": [
        "Iteration number=1400\n"
       ]
      },
      {
       "output_type": "stream",
       "stream": "stdout",
       "text": [
        "Iteration number=1500\n"
       ]
      },
      {
       "output_type": "stream",
       "stream": "stdout",
       "text": [
        "Iteration number=1600\n",
        "Iteration number="
       ]
      },
      {
       "output_type": "stream",
       "stream": "stdout",
       "text": [
        "1700\n"
       ]
      },
      {
       "output_type": "stream",
       "stream": "stdout",
       "text": [
        "Iteration number=1800\n",
        "Iteration number="
       ]
      },
      {
       "output_type": "stream",
       "stream": "stdout",
       "text": [
        "1900\n"
       ]
      },
      {
       "output_type": "stream",
       "stream": "stdout",
       "text": [
        "Iteration number=2000\n",
        "Iteration number="
       ]
      },
      {
       "output_type": "stream",
       "stream": "stdout",
       "text": [
        "2100\n"
       ]
      },
      {
       "output_type": "stream",
       "stream": "stdout",
       "text": [
        "Iteration number=2200\n"
       ]
      },
      {
       "output_type": "stream",
       "stream": "stdout",
       "text": [
        "Iteration number=2300\n"
       ]
      },
      {
       "output_type": "stream",
       "stream": "stdout",
       "text": [
        "Iteration number=2400\n"
       ]
      },
      {
       "output_type": "stream",
       "stream": "stdout",
       "text": [
        "Iteration number=2500\n"
       ]
      },
      {
       "output_type": "stream",
       "stream": "stdout",
       "text": [
        "Iteration number=2600\n",
        "Iteration number="
       ]
      },
      {
       "output_type": "stream",
       "stream": "stdout",
       "text": [
        "2700\n",
        "Iteration number="
       ]
      },
      {
       "output_type": "stream",
       "stream": "stdout",
       "text": [
        "2800\n"
       ]
      },
      {
       "output_type": "stream",
       "stream": "stdout",
       "text": [
        "Iteration number=2900\n"
       ]
      },
      {
       "metadata": {},
       "output_type": "pyout",
       "prompt_number": 7,
       "text": [
        "(\n",
        "1000x1 Array{Float64,2}:\n",
        "  1.5938e-5 \n",
        " -2.81496e-5\n",
        " -1.48181e-5\n",
        " -2.00321e-5\n",
        " -1.11932e-5\n",
        " -9.63776e-6\n",
        "  2.26181e-5\n",
        " -1.43548e-5\n",
        "  1.4062e-5 \n",
        "  3.65476e-5\n",
        "  1.99111e-5\n",
        "  5.93762e-6\n",
        "  6.84764e-6\n",
        "  \u22ee         \n",
        " -4.47266e-5\n",
        " -3.96412e-5\n",
        "  4.05834e-5\n",
        "  1.59358e-5\n",
        "  3.00671e-5\n",
        "  0.0272904 \n",
        " -0.149622  \n",
        "  6.76358e-6\n",
        " -0.0109179 \n",
        "  0.00121303\n",
        " -2.21883e-5\n",
        "  0.0265249 ,\n",
        "\n",
        "[Inf,6.32542,51.358,24.8256,15.4225,13.216,10.9506,9.82574,8.7125,8.41165  \u2026  3.42369,3.42368,3.4234,3.42354,3.4234,3.4236,3.42382,3.42287,3.42376,3.42357],[Inf,6.32542,6.32542,6.32542,6.32542,6.32542,6.32542,6.32542,6.32542,6.32542  \u2026  3.4232,3.4232,3.4232,3.4232,3.4232,3.4232,3.4232,3.42287,3.42287,3.42287])"
       ]
      }
     ],
     "prompt_number": 7
    },
    {
     "cell_type": "markdown",
     "metadata": {},
     "source": [
      "Finally we plot $f_\\textrm{best}^{(k)}$ versus $k$."
     ]
    },
    {
     "cell_type": "code",
     "collapsed": false,
     "input": [
      "#Plotting time\n",
      "#-------------\n",
      "using Winston\n",
      "iters=[1:maxIter]\n",
      "figProjSub = FramedPlot(\n",
      "title=\"The value of f_{best}^{(k)} - f^{*} vs. iteration number\",\n",
      "         xlabel=\"k\",\n",
      "         ylabel=\"f_{best}^{(k)} - f^{*}\",\n",
      "yrange=(1e-2,1e0),\n",
      "ylog=true\n",
      ")\n",
      "xAxis=iters\n",
      "curve1=fBest-fMinValue\n",
      "bl=Curve(xAxis, curve1, color=\"blue\")\n",
      "setattr(bl, label=\"0.1/k\")\n",
      "le=Legend(.1,.1,{bl})\n",
      "add(figProjSub,bl)"
     ],
     "language": "python",
     "metadata": {},
     "outputs": [
      {
       "metadata": {},
       "output_type": "pyout",
       "png": "[encoded data removed]",
       "prompt_number": 8,
       "text": [
        "FramedPlot(...)"
       ]
      }
     ],
     "prompt_number": 8
    }
   ],
   "metadata": {}
  }
 ]
}