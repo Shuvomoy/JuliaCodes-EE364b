{
 "metadata": {
  "language": "Julia",
  "name": "",
  "signature": "sha256:eada20b616374fa73b3a693f9b027d4d781525fd11f7888fac9dd69df80607c7"
 },
 "nbformat": 3,
 "nbformat_minor": 0,
 "worksheets": [
  {
   "cells": [
    {
     "cell_type": "markdown",
     "metadata": {},
     "source": [
      "## Problem description\n",
      "We want to solve the problem:\n",
      "\\begin{align}\n",
      "\\textrm{minimize} \\quad f(x)=\\textrm{max}_{i=1,\\ldots,m}(a_i^T x+b_i),\n",
      "\\end{align}\n",
      "where $x \\in \\mathbb{R}^n$ is the decision variable. First, we generate the problem instance."
     ]
    },
    {
     "cell_type": "code",
     "collapsed": false,
     "input": [
      "n=20\n",
      "m=100\n",
      "A=randn(m,n)\n",
      "b=randn(m,1)"
     ],
     "language": "python",
     "metadata": {},
     "outputs": [
      {
       "metadata": {},
       "output_type": "pyout",
       "prompt_number": 1,
       "text": [
        "100x1 Array{Float64,2}:\n",
        " -1.00482  \n",
        "  0.675364 \n",
        " -0.512667 \n",
        "  1.10913  \n",
        " -1.27609  \n",
        " -0.297423 \n",
        "  0.686375 \n",
        " -0.168433 \n",
        "  0.43771  \n",
        " -0.683546 \n",
        "  0.872887 \n",
        "  1.39379  \n",
        " -0.368571 \n",
        "  \u22ee        \n",
        "  1.75125  \n",
        "  0.0374222\n",
        " -0.338535 \n",
        " -0.0350983\n",
        " -1.97163  \n",
        "  0.253487 \n",
        " -0.53606  \n",
        "  0.0218685\n",
        "  0.808339 \n",
        "  1.06744  \n",
        "  1.02573  \n",
        " -1.2736   "
       ]
      }
     ],
     "prompt_number": 1
    },
    {
     "cell_type": "markdown",
     "metadata": {},
     "source": [
      "## Solving the problem using interior point algorithm (using `Convex.jl`)\n",
      "Now we compute the optimal value by solving the problem using `Convex.jl`. Note that $\\textrm{max}_{i=1,\\ldots,m}(a_i^T x+ b_i)=\\textrm{max}{(A x+ b)}$, where $A=\\left( \\begin{array}{c}\n",
      "a_1^T \\\\\n",
      "\\vdots \\\\\n",
      "a_m^T \\end{array} \\right) \n",
      "$\n",
      "and $b= \\left( \\begin{array}{c} b_1 \\\\ \\vdots \\\\ b_m \\end{array} \\right)$. In `Convex`, we can represent the objective function as `maximum(A*x-b)`."
     ]
    },
    {
     "cell_type": "code",
     "collapsed": false,
     "input": [
      "# Pkg.add(\"Convex\") # Run this command if you do not have Convex.jl"
     ],
     "language": "python",
     "metadata": {},
     "outputs": [],
     "prompt_number": 2
    },
    {
     "cell_type": "code",
     "collapsed": false,
     "input": [
      "# Pkg.add(\"SCS\") # This is our solver, install this if you do not have this "
     ],
     "language": "python",
     "metadata": {},
     "outputs": [],
     "prompt_number": 3
    },
    {
     "cell_type": "code",
     "collapsed": false,
     "input": [
      "using Convex"
     ],
     "language": "python",
     "metadata": {},
     "outputs": [],
     "prompt_number": 4
    },
    {
     "cell_type": "code",
     "collapsed": false,
     "input": [
      "using SCS"
     ],
     "language": "python",
     "metadata": {},
     "outputs": [],
     "prompt_number": 5
    },
    {
     "cell_type": "code",
     "collapsed": false,
     "input": [
      "xMin=Variable(n) # Defining the variable"
     ],
     "language": "python",
     "metadata": {},
     "outputs": [
      {
       "metadata": {},
       "output_type": "pyout",
       "prompt_number": 6,
       "text": [
        "Variable of\n",
        "size: (20, 1)\n",
        "sign: NoSign()\n",
        "vexity: AffineVexity()"
       ]
      }
     ],
     "prompt_number": 6
    },
    {
     "cell_type": "code",
     "collapsed": false,
     "input": [
      "problem=minimize(maximum(A*xMin-b)) # Defining the problem\n",
      "\n",
      "solve!(problem,SCSSolver()) # Solve the problem using SCS solver\n",
      "\n",
      "print(\n",
      "\"The status of the solution is \", problem.status, \n",
      "\"\\nwith optimal objective value, f(x*)=\", problem.optval, \n",
      "\"\\nand optimal solution, x*=\\n \", xMin.value\n",
      ")\n",
      "\n",
      "xMinValue=xMin.value\n",
      "fMinValue=problem.optval"
     ],
     "language": "python",
     "metadata": {},
     "outputs": [
      {
       "output_type": "stream",
       "stream": "stdout",
       "text": [
        "The status of the solution is "
       ]
      },
      {
       "output_type": "stream",
       "stream": "stdout",
       "text": [
        "Optimal\n",
        "with optimal objective value, f(x*)=1.3685191981191482\n",
        "and optimal solution, x*=\n",
        " ["
       ]
      },
      {
       "output_type": "stream",
       "stream": "stdout",
       "text": [
        "-0.005362884143900659\n",
        " -0.19770775203489366\n",
        " 0.061482383770284275\n",
        " 0.062123685339508766\n",
        " 0.11060393738768885\n",
        " -0.053618428458064214\n",
        " -0.13119948654418329\n",
        " 0.32256917220341347\n",
        " 0.2882287325195337\n",
        " 0.10773557021960432\n",
        " -0.4190930571573011\n",
        " 0.2270013518539288\n",
        " -0.07525423901368346\n",
        " 0.31199987897183556\n",
        " 0.12785476665179787\n",
        " -0.1927922469470178\n",
        " 0.10641333121439717\n",
        " 0.15986243930840002\n",
        " -0.05508057203734355\n",
        " -0.016586052836644632]"
       ]
      },
      {
       "metadata": {},
       "output_type": "pyout",
       "prompt_number": 7,
       "text": [
        "1.3685191981191482"
       ]
      }
     ],
     "prompt_number": 7
    },
    {
     "cell_type": "markdown",
     "metadata": {},
     "source": [
      "## Subgradient method in one line\n",
      "The subgradient method can be described in one line, which is as follows: \n",
      "\n",
      "\\begin{align}\n",
      "\\forall k \\in \\{0,1,\\ldots\\} \\quad x^{(k+1)}=x^{(k)}-\\alpha_k g^{(k)}, \\qquad \\qquad (1)\n",
      "\\end{align}\n",
      "\n",
      "where $\\alpha_k$ is the step size, and $g^{k}$ is a subgradient of the objective function at $x^{(k)}$. For our case, $g^{(k)}$ can be calculated as follows. At first we find an index $\\bar{i}$ such that $a_\\bar{i}^T x+b_\\bar{i}$ which is active at $f(x^{(k)})$, i.e., $f(x^{(k)})=a_\\bar{i}^T x^{(k)} + b_\\bar{i}$, then $g^{k}=a_\\bar{i}$. There are different step size rules, at first we are going to consider constant step length.\n",
      "\n",
      "## Implementing subgradient method for constant step length\n",
      "Let us write a `function` in Julia that will implement subgradient method for the piecewise linear problem with constant step length. Here we set $\\alpha^{k}=\\gamma / \\|g^{(k)}\\|_2 $. So  Equation (1) can be written as:\n",
      "\n",
      "\n",
      "\\begin{align}\n",
      "\\forall k \\in \\{1,2,\\ldots\\} \\quad x^{(k+1)}=x^{(k)}-\\gamma/\\|g^{(k)}\\|_2 a_\\bar{i}. \\quad \\qquad (2)\n",
      "\\end{align}\n",
      "\n",
      "An interesting property of subgradient method is that, the objective value may not decrease with each iteration, so subgradient method is not a descent method, rather what would decrease at each step is the distance from the optimal set. As a reslult, we keep track of the best solution found so far, which results in the current best objective value $f_{\\textrm{best}}^{(k)}=\\textrm{min} \\{ f(x^{(1)}), \\ldots, f(x^{(k)})\\}$.\n",
      "\n"
     ]
    },
    {
     "cell_type": "markdown",
     "metadata": {},
     "source": [
      "The next question is when do we stop? Let $\\tau$ be some threshold, beyond which we do not care. Let \n",
      "$$l_{\\textrm{best}}^{(k)}=\\textrm{max}\\{l_1,\\ldots, l_k\\},$$ and \n",
      "$$l_k=\\frac{2 \\sum_{i=1}^{k}{\\alpha_i f(x^{(i)})-R^2- \\sum_{i=1}^{k}{\\alpha_i^2 \\|g^{(i)}\\|_2^2}}}{2 \\sum_{i=1}^{k} \\alpha_i}.$$\n",
      "Then the stopping criterion is\n",
      "\n",
      "$$f_\\textrm{best}^{(k)}- l_{\\textrm{best}}^{(k)} \\leq \\tau.$$\n"
     ]
    },
    {
     "cell_type": "code",
     "collapsed": false,
     "input": [
      "function sgm_pwl_const_step_length(\n",
      "    A::Array{Float64,2}, \n",
      "    b::Array{Float64,2}, \n",
      "    x1::Array{Float64,2}, \n",
      "    R::Float64, \n",
      "    gamma::Float64,\n",
      "    tol::Float64,\n",
      "    maxIter::Int64\n",
      "    )\n",
      "# The following three terms are the first and third term of the numerator,\n",
      "# and the denominator of l_k respectively\n",
      "sumAlphaF=0\n",
      "sumAlphaSubg=0 \n",
      "sumAlpha=0 \n",
      "\n",
      "fSet=Float64[] # We are creating an empty array where we will store the objective values as we progress\n",
      "push!(fSet,Inf) # Intial value of f is infinity\n",
      "\n",
      "fBest=Float64[] # It is an array where the last element will give f_best^{(k)} so far\n",
      "push!(fBest, Inf) # Intial best value of f is infinity\n",
      "\n",
      "lBest=Float64[] # will contain the best lower bound\n",
      "push!(lBest, -Inf) # Initial best lower bound is taken to be -infinity\n",
      "\n",
      "k=1 # iteration index\n",
      "\n",
      "x=x1 # assigning into x the starting value of x^(1)\n",
      "\n",
      "while k < maxIter\n",
      "# Finding one subgradient\n",
      "fKval=maximum(A*x-b)\n",
      "indActvf=indmax(A*x-b)\n",
      "gk=A[indActvf,:]'\n",
      "  \n",
      "#Step size selection\n",
      "alphak=gamma/norm(gk)  \n",
      "  \n",
      "# Push the current value of f(x^(k)) in fSet\n",
      "push!(fSet,fKval)\n",
      "\n",
      "# Note how we are pushing the best f found so far in the last element of f\n",
      "push!(fBest, min(fBest[end],fKval)) \n",
      "\n",
      "  \n",
      "# Computing the lower bound\n",
      "sumAlpha = sumAlpha+alphak\n",
      "sumAlphaF= sumAlphaF+ (alphak*fKval)\n",
      "sumAlphaSubg=sumAlphaSubg + (alphak^2*norm(gk)^2)\n",
      "lk=((2* sumAlphaF)-R^2- sumAlphaSubg)/(2*sumAlpha) # Calculating lk \n",
      "push!(lBest, max(lBest[end],lk))\n",
      "  \n",
      "if (fBest[end]-lBest[end] < tol)\n",
      "    println(\"We have found an optimal solution (subject to the tolerance)\")\n",
      "    return x, fBest[end]\n",
      "    break\n",
      "end\n",
      "  \n",
      "#update x\n",
      "x=x-alphak*gk\n",
      "#increase k by 1 \n",
      "k=k+1\n",
      "end # end while\n",
      "\n",
      "return x, fSet, fBest, lBest\n",
      "\n",
      "end"
     ],
     "language": "python",
     "metadata": {},
     "outputs": [
      {
       "metadata": {},
       "output_type": "pyout",
       "prompt_number": 8,
       "text": [
        "sgm_pwl_const_step_length (generic function with 1 method)"
       ]
      }
     ],
     "prompt_number": 8
    },
    {
     "cell_type": "markdown",
     "metadata": {},
     "source": [
      "We create the initial points now. Note that as $R$ we are taking a much bigger value than the real $R$."
     ]
    },
    {
     "cell_type": "code",
     "collapsed": false,
     "input": [
      "# Intial points\n",
      "x1=zeros(n,1)\n",
      "Rtrue=norm(x1-xMinValue)\n",
      "R=10.0 \n",
      "println(\"The real R = \", Rtrue, \", but we are taking R = \", R)"
     ],
     "language": "python",
     "metadata": {},
     "outputs": [
      {
       "output_type": "stream",
       "stream": "stdout",
       "text": [
        "The real R = "
       ]
      },
      {
       "output_type": "stream",
       "stream": "stdout",
       "text": [
        "0.8376704806013472, but we are taking R = 10.0\n"
       ]
      }
     ],
     "prompt_number": 9
    },
    {
     "cell_type": "markdown",
     "metadata": {},
     "source": [
      "We set the parameters such as $\\gamma, \\tau$ and maximum number of iterations."
     ]
    },
    {
     "cell_type": "code",
     "collapsed": false,
     "input": [
      "# Constant step length examples\n",
      "gammas=[0.05, 0.01, 0.005]\n",
      "tol=1e-3\n",
      "maxIter=3000"
     ],
     "language": "python",
     "metadata": {},
     "outputs": [
      {
       "metadata": {},
       "output_type": "pyout",
       "prompt_number": 10,
       "text": [
        "3000"
       ]
      }
     ],
     "prompt_number": 10
    },
    {
     "cell_type": "markdown",
     "metadata": {},
     "source": [
      "Now we run the subgradient method with constant step lenghths for differtent $\\gamma$s. Not surprisingly, for none of the cases we have reached the optimal solution subject to the tolerance."
     ]
    },
    {
     "cell_type": "code",
     "collapsed": false,
     "input": [
      "(xGamma1,f1,fBest1,lBest1)=sgm_pwl_const_step_length(A, b, x1, R, gammas[1], tol, maxIter)\n",
      "(xGamma2,f2,fBest2,lBest2)=sgm_pwl_const_step_length(A, b, x1, R, gammas[2], tol, maxIter)\n",
      "(xGamma2,f3,fBest3,lBest3)=sgm_pwl_const_step_length(A, b, x1, R, gammas[3], tol, maxIter)"
     ],
     "language": "python",
     "metadata": {},
     "outputs": [
      {
       "metadata": {},
       "output_type": "pyout",
       "prompt_number": 11,
       "text": [
        "(\n",
        "20x1 Array{Float64,2}:\n",
        " -0.037968   \n",
        " -0.0425754  \n",
        "  0.0776394  \n",
        "  0.0320076  \n",
        " -0.0109493  \n",
        "  0.0109694  \n",
        " -0.146419   \n",
        "  0.20051    \n",
        "  0.223593   \n",
        "  0.013882   \n",
        " -0.346711   \n",
        "  0.0163428  \n",
        " -0.0390526  \n",
        "  0.293879   \n",
        "  0.182266   \n",
        " -0.241218   \n",
        "  0.0482141  \n",
        "  0.15271    \n",
        " -0.105815   \n",
        "  0.000976662,\n",
        "\n",
        "[Inf,2.3168,2.29224,2.26768,2.24312,2.21857,2.19401,2.18459,2.17035,2.16195  \u2026  1.3898,1.39444,1.38875,1.38897,1.38933,1.39235,1.38673,1.39078,1.38787,1.39194],[Inf,2.3168,2.29224,2.26768,2.24312,2.21857,2.19401,2.18459,2.17035,2.16195  \u2026  1.38388,1.38388,1.38388,1.38388,1.38388,1.38388,1.38388,1.38388,1.38388,1.38388],[-Inf,-49114.7,-24556.2,-16370.0,-12277.0,-9821.14,-8183.92,-6969.64,-6103.04,-5401.17  \u2026  -13.0297,-13.0253,-13.0199,-13.0142,-13.0089,-13.0053,-13.0009,-12.9952,-12.9894,-12.9852])"
       ]
      }
     ],
     "prompt_number": 11
    },
    {
     "cell_type": "markdown",
     "metadata": {},
     "source": [
      "We want to plot how $f_\\textrm{best}^{(k)}- l_{\\textrm{best}}^{(k)}$ changes as iteration number $k$ varies for different values of $\\gamma$. Let us install graphing package `Winston` and invoke it. At first, we plot only for 100 iterations."
     ]
    },
    {
     "cell_type": "code",
     "collapsed": false,
     "input": [
      "# Pkg.add(\"Winston\") # Install Winston, a graph plotting package in Julia \n",
      "using Winston"
     ],
     "language": "python",
     "metadata": {},
     "outputs": [],
     "prompt_number": 12
    },
    {
     "cell_type": "code",
     "collapsed": false,
     "input": [
      "iters=[1:maxIter]\n",
      "iterSm=100"
     ],
     "language": "python",
     "metadata": {},
     "outputs": [
      {
       "metadata": {},
       "output_type": "pyout",
       "prompt_number": 13,
       "text": [
        "100"
       ]
      }
     ],
     "prompt_number": 13
    },
    {
     "cell_type": "code",
     "collapsed": false,
     "input": [
      "fig100itrs = FramedPlot(\n",
      "title=\"The value of f_{best}^{(k)} - f^{*} versus iteration number k=1,...,100 for constant step length\",\n",
      "         xlabel=\"k\",\n",
      "         ylabel=\"f_{best}^{(k)} - f^{*}\",\n",
      "yrange=(1e-1,2),\n",
      "ylog=true\n",
      ")\n",
      "xAxis=iters[1:iterSm]\n",
      "curveGamma1=fBest1[1:iterSm]-fMinValue # This is the curve of f_{best}^{(k)} - f^{*} for gamma = 0.05\n",
      "curveGamma2=fBest2[1:iterSm]-fMinValue # This is the curve of f_{best}^{(k)} - f^{*} for gamma = 0.01\n",
      "curveGamma3=fBest3[1:iterSm]-fMinValue # This is the curve of f_{best}^{(k)} - f^{*} for gamma = 0.005\n",
      "re=Curve(xAxis, curveGamma1, color=\"red\")\n",
      "setattr(re, label=\"\u03b3=0.05\")\n",
      "gr=Curve(xAxis, curveGamma2, color=\"green\")\n",
      "setattr(gr, label=\"\u03b3=0.01\")\n",
      "bl=Curve(xAxis, curveGamma3, color=\"blue\")\n",
      "setattr(bl, label=\"\u03b3=0.005\")\n",
      "le=Legend(.03,.2,{re,gr,bl})\n",
      "add(fig100itrs,re,gr,bl,le)\n"
     ],
     "language": "python",
     "metadata": {},
     "outputs": [
      {
       "metadata": {},
       "output_type": "pyout",
       "png": "[encoded data removed]",
       "prompt_number": 14,
       "text": [
        "FramedPlot(...)"
       ]
      }
     ],
     "prompt_number": 14
    },
    {
     "cell_type": "markdown",
     "metadata": {},
     "source": [
      "Now let us plot the same curves for 3000 iterations. "
     ]
    },
    {
     "cell_type": "code",
     "collapsed": false,
     "input": [
      "fig3000itrs = FramedPlot(\n",
      "title=\"The value of f_{best}^{(k)} - f^{*} vs. iteration number k=1,...,3000 for constant step length\",\n",
      "         xlabel=\"k\",\n",
      "         ylabel=\"f_{best}^{(k)} - f^{*}\",\n",
      "yrange=(1e-2,2),\n",
      "ylog=true\n",
      ")\n",
      "xAxis=iters\n",
      "curveGamma1=fBest1-fMinValue # This is the curve of f_{best}^{(k)} - f^{*} for gamma = 0.05\n",
      "curveGamma2=fBest2-fMinValue # This is the curve of f_{best}^{(k)} - f^{*} for gamma = 0.01\n",
      "curveGamma3=fBest3-fMinValue # This is the curve of f_{best}^{(k)} - f^{*} for gamma = 0.005\n",
      "re=Curve(xAxis, curveGamma1, color=\"red\")\n",
      "setattr(re, label=\"\u03b3=0.05\")\n",
      "gr=Curve(xAxis, curveGamma2, color=\"green\")\n",
      "setattr(gr, label=\"\u03b3=0.01\")\n",
      "bl=Curve(xAxis, curveGamma3, color=\"blue\")\n",
      "setattr(bl, label=\"\u03b3=0.005\")\n",
      "le=Legend(.03,.2,{re,gr,bl})\n",
      "add(fig3000itrs,re,gr,bl,le)"
     ],
     "language": "python",
     "metadata": {},
     "outputs": [
      {
       "metadata": {},
       "output_type": "pyout",
       "png": "[encoded data removed]",
       "prompt_number": 15,
       "text": [
        "FramedPlot(...)"
       ]
      }
     ],
     "prompt_number": 15
    },
    {
     "cell_type": "markdown",
     "metadata": {},
     "source": [
      "## Implementing subgradient method for diminishing step rule and square summable step size rule\n",
      "For these two step rules $f_\\textrm{best}^{(k)}-f^*$ converges to zero, so we will not calculate the lower bound in these cases. Unlike the constant step length case, we do not attempt to find any optimal soution. We just see how far subgradient method can take us.\n",
      "### The diminishing step rule\n",
      "These step rules satisfy\n",
      "\n",
      "\\begin{align}\n",
      "\\alpha_{k} \\geq 0, \\quad \\lim_{k \\to \\infty}{\\alpha_{k}}=0, \\quad \\sum_{k=1}^{\\infty}{\\alpha_{k}}=\\infty.\n",
      "\\end{align}\n",
      "\n",
      "For example, $\\alpha_{k}=\\frac{a}{\\sqrt{k}}$, where $a >0$. In our code we will try $a=0.1$ and $a=1$.\n",
      "\n",
      "### Square summable but not summable step size rule\n",
      "These ones satisfy\n",
      "\n",
      "\\begin{align}\n",
      "\\alpha_{k} \\geq 0, \\quad \\sum_{k=1}^{\\infty}{\\alpha_{k}^{2}} < \\infty, \\quad \\sum_{k=1}^{\\infty}{\\alpha_{k}}=\\infty.\n",
      "\\end{align}\n",
      "\n",
      "A common example is $\\alpha_{k}=\\frac{a}{b+k}$, where $a > 0$ and $b \\geq 0$. We will try $a=1$ and $a= 10$ with $b=0$.\n",
      "\n",
      "Let's write the function for diminishing step rule first."
     ]
    },
    {
     "cell_type": "code",
     "collapsed": false,
     "input": [
      "function sgm_pwl_nonsum_dimin(\n",
      "    A::Array{Float64,2}, \n",
      "    b::Array{Float64,2}, \n",
      "    x1::Array{Float64,2}, \n",
      "    a::Float64, \n",
      "    maxIter::Int64\n",
      "    )\n",
      "\n",
      "fSet=Float64[] # We are creating an empty array where we will store the objective values as we progress\n",
      "push!(fSet,Inf) # Intial value of f is infinity\n",
      "\n",
      "fBest=Float64[] # It is an array where the last element will give f_best^{(k)} so far\n",
      "push!(fBest, Inf) # Intial best value of f is infinity\n",
      "\n",
      "k=1 # iteration index\n",
      "\n",
      "x=x1 # assigning into x the starting value of x^(1)\n",
      "\n",
      "while k < maxIter\n",
      "# Finding one subgradient\n",
      "fKval=maximum(A*x-b)\n",
      "indActvf=indmax(A*x-b)\n",
      "gk=A[indActvf,:]'\n",
      "  \n",
      "#Step size selection\n",
      "alphak=a/sqrt(k)  \n",
      "  \n",
      "# Push the current value of f(x^(k)) in fSet\n",
      "push!(fSet,fKval)\n",
      "\n",
      "# Note how we are pushing the best f found so far in the last element of f\n",
      "push!(fBest, min(fBest[end],fKval)) \n",
      "\n",
      "#update x\n",
      "x=x-alphak*gk\n",
      "#increase k by 1 \n",
      "k=k+1\n",
      "end # end while\n",
      "\n",
      "return x, fSet, fBest\n",
      "\n",
      "end"
     ],
     "language": "python",
     "metadata": {},
     "outputs": [
      {
       "metadata": {},
       "output_type": "pyout",
       "prompt_number": 16,
       "text": [
        "sgm_pwl_nonsum_dimin (generic function with 1 method)"
       ]
      }
     ],
     "prompt_number": 16
    },
    {
     "cell_type": "markdown",
     "metadata": {},
     "source": [
      "Now let's write the function for square summable but not summable step sizes."
     ]
    },
    {
     "cell_type": "code",
     "collapsed": false,
     "input": [
      "function sgm_pwl_sqrsum_nonsum(\n",
      "    A::Array{Float64,2}, \n",
      "    b::Array{Float64,2}, \n",
      "    x1::Array{Float64,2}, \n",
      "    a::Float64, \n",
      "    maxIter::Int64\n",
      "    )\n",
      "\n",
      "fSet=Float64[] # We are creating an empty array where we will store the objective values as we progress\n",
      "push!(fSet,Inf) # Intial value of f is infinity\n",
      "\n",
      "fBest=Float64[] # It is an array where the last element will give f_best^{(k)} so far\n",
      "push!(fBest, Inf) # Intial best value of f is infinity\n",
      "\n",
      "k=1 # iteration index\n",
      "\n",
      "x=x1 # assigning into x the starting value of x^(1)\n",
      "\n",
      "while k < maxIter\n",
      "# Finding one subgradient\n",
      "fKval=maximum(A*x-b)\n",
      "indActvf=indmax(A*x-b)\n",
      "gk=A[indActvf,:]'\n",
      "  \n",
      "#Step size selection\n",
      "alphak=a/k  \n",
      "  \n",
      "# Push the current value of f(x^(k)) in fSet\n",
      "push!(fSet,fKval)\n",
      "\n",
      "# Note how we are pushing the best f found so far in the last element of f\n",
      "push!(fBest, min(fBest[end],fKval)) \n",
      "\n",
      "#update x\n",
      "x=x-alphak*gk\n",
      "#increase k by 1 \n",
      "k=k+1\n",
      "end # end while\n",
      "\n",
      "return x, fSet, fBest\n",
      "\n",
      "end"
     ],
     "language": "python",
     "metadata": {},
     "outputs": [
      {
       "metadata": {},
       "output_type": "pyout",
       "prompt_number": 17,
       "text": [
        "sgm_pwl_sqrsum_nonsum (generic function with 1 method)"
       ]
      }
     ],
     "prompt_number": 17
    },
    {
     "cell_type": "markdown",
     "metadata": {},
     "source": [
      "Let's run the functions for different values."
     ]
    },
    {
     "cell_type": "code",
     "collapsed": false,
     "input": [
      "(xNd1, fNd1, fBestNd1)=sgm_pwl_nonsum_dimin(A, b, x1, 0.1 , maxIter)\n",
      "(xNd2, fNd2, fBestNd2)=sgm_pwl_nonsum_dimin(A, b, x1, 1.0 , maxIter)\n",
      "(xSn1, fSn1, fBestSn1)=sgm_pwl_sqrsum_nonsum(A, b, x1, 1.0 , maxIter)\n",
      "(xSn2, fSn2, fBestSn2)=sgm_pwl_sqrsum_nonsum(A, b, x1, 10.0 , maxIter)"
     ],
     "language": "python",
     "metadata": {},
     "outputs": [
      {
       "metadata": {},
       "output_type": "pyout",
       "prompt_number": 18,
       "text": [
        "(\n",
        "20x1 Array{Float64,2}:\n",
        " -0.00425324\n",
        " -0.153375  \n",
        "  0.0458427 \n",
        "  0.0654312 \n",
        "  0.0835965 \n",
        " -0.051051  \n",
        " -0.122101  \n",
        "  0.309797  \n",
        "  0.257817  \n",
        "  0.0987901 \n",
        " -0.413222  \n",
        "  0.192122  \n",
        " -0.0777683 \n",
        "  0.311411  \n",
        "  0.136525  \n",
        " -0.207523  \n",
        "  0.101606  \n",
        "  0.150884  \n",
        " -0.0707678 \n",
        "  0.00393114,\n",
        "\n",
        "[Inf,2.3168,125.239,85.1917,92.1499,66.7722,58.126,54.5117,44.1742,41.7856  \u2026  1.40433,1.42206,1.40061,1.41042,1.40305,1.39271,1.38702,1.40366,1.40728,1.39886],[Inf,2.3168,2.3168,2.3168,2.3168,2.3168,2.3168,2.3168,2.3168,2.3168  \u2026  1.38103,1.38103,1.38103,1.38103,1.38103,1.38103,1.38103,1.38103,1.38103,1.38103])"
       ]
      }
     ],
     "prompt_number": 18
    },
    {
     "cell_type": "markdown",
     "metadata": {},
     "source": [
      "Plotting time!"
     ]
    },
    {
     "cell_type": "code",
     "collapsed": false,
     "input": [
      "figNdSn = FramedPlot(\n",
      "title=\"The value of f_{best}^{(k)} - f^{*} vs. iteration number for \n",
      "       diminishing and square summable step size rule\",\n",
      "         xlabel=\"k\",\n",
      "         ylabel=\"f_{best}^{(k)} - f^{*}\",\n",
      "yrange=(1e-3,1e1),\n",
      "ylog=true\n",
      ")\n",
      "xAxis=iters\n",
      "curveNd1=fBestNd1-fMinValue \n",
      "curveNd2=fBestNd2-fMinValue \n",
      "curveSn1=fBestSn1-fMinValue\n",
      "curveSn2=fBestSn2-fMinValue\n",
      "bl=Curve(xAxis, curveNd1, color=\"blue\")\n",
      "setattr(bl, label=\"0.1/\u221ak\")\n",
      "gr=Curve(xAxis, curveNd2, color=\"green\")\n",
      "setattr(gr, label=\"1/\u221ak\")\n",
      "re=Curve(xAxis, curveSn1, color=\"red\")\n",
      "setattr(re, label=\"1/k\")\n",
      "blk=Curve(xAxis, curveSn2, color=\"black\")\n",
      "setattr(blk, label=\"10/k\")\n",
      "le=Legend(.8,.95,{bl,gr,re,blk})\n",
      "add(figNdSn,bl,gr,re,blk,le)"
     ],
     "language": "python",
     "metadata": {},
     "outputs": [
      {
       "metadata": {},
       "output_type": "pyout",
       "png": "[encoded data removed]",
       "prompt_number": 19,
       "text": [
        "FramedPlot(...)"
       ]
      }
     ],
     "prompt_number": 19
    },
    {
     "cell_type": "markdown",
     "metadata": {},
     "source": [
      "## Imeplementing subgradient methods using Polyak's step length\n",
      "### Polyak's step length when $f^*$ is known\n",
      "If $f^*$ is known, then we can use Polyak's step size, which is\n",
      "$$\n",
      "\\alpha_k=\\frac{f(x^{(k)})-f^*}{\\|g^{(k)}\\|_2^2}.\n",
      "$$\n",
      "As before, we will write a function that will implement subgradient method with Polyak's step length. We will compare the performance with diminishing step rule and square summable but not summable step rule."
     ]
    },
    {
     "cell_type": "code",
     "collapsed": false,
     "input": [
      "function sgm_pwl_optimal_step(\n",
      "                              A::Array{Float64,2},\n",
      "                              b::Array{Float64,2}, \n",
      "                              x1::Array{Float64,2},\n",
      "                              fMin::Float64, \n",
      "                              maxIter::Int64\n",
      "                              )\n",
      "\n",
      "fSet=Float64[] # We are creating an empty array where we will store the objective values as we progress\n",
      "push!(fSet,Inf) # Intial value of f is infinity\n",
      "\n",
      "fBest=Float64[] # It is an array where the last element will give f_best^{(k)} so far\n",
      "push!(fBest, Inf) # Intial best value of f is infinity\n",
      "\n",
      "k=1 # iteration index\n",
      "\n",
      "x=x1 # assigning into x the starting value of x^(1)\n",
      "\n",
      "while k < maxIter\n",
      "# Finding one subgradient\n",
      "fKval=maximum(A*x-b)\n",
      "indActvf=indmax(A*x-b)\n",
      "gk=A[indActvf,:]'\n",
      "  \n",
      "#Step size selection\n",
      "alphak=(fKval-fMin)/norm(gk)^2  \n",
      "  \n",
      "# Push the current value of f(x^(k)) in fSet\n",
      "push!(fSet,fKval)\n",
      "\n",
      "# Note how we are pushing the best f found so far in the last element of f\n",
      "push!(fBest, min(fBest[end],fKval)) \n",
      "\n",
      "#update x\n",
      "x=x-alphak*gk\n",
      "#increase k by 1 \n",
      "k=k+1\n",
      "end # end while\n",
      "\n",
      "return x, fSet, fBest\n",
      "\n",
      "end"
     ],
     "language": "python",
     "metadata": {},
     "outputs": [
      {
       "metadata": {},
       "output_type": "pyout",
       "prompt_number": 20,
       "text": [
        "sgm_pwl_optimal_step (generic function with 1 method)"
       ]
      }
     ],
     "prompt_number": 20
    },
    {
     "cell_type": "code",
     "collapsed": false,
     "input": [
      "(xPol, fPol, fBestPol)=sgm_pwl_optimal_step(A, b, x1, fMinValue , maxIter)\n"
     ],
     "language": "python",
     "metadata": {},
     "outputs": [
      {
       "metadata": {},
       "output_type": "pyout",
       "prompt_number": 21,
       "text": [
        "(\n",
        "20x1 Array{Float64,2}:\n",
        " -0.0458426\n",
        " -0.051355 \n",
        "  0.0663315\n",
        "  0.042004 \n",
        " -0.0116665\n",
        " -0.0020225\n",
        " -0.142943 \n",
        "  0.2329   \n",
        "  0.205875 \n",
        "  0.0205621\n",
        " -0.373052 \n",
        "  0.0294968\n",
        " -0.0582423\n",
        "  0.305173 \n",
        "  0.167689 \n",
        " -0.237592 \n",
        "  0.0812705\n",
        "  0.158575 \n",
        " -0.099551 \n",
        "  0.0118149,\n",
        "\n",
        "[Inf,2.3168,2.21286,2.47464,2.19829,1.94388,1.91439,1.91475,1.83378,1.80888  \u2026  1.37953,1.3837,1.38255,1.38205,1.37983,1.37943,1.3797,1.37896,1.38078,1.38518],[Inf,2.3168,2.21286,2.21286,2.19829,1.94388,1.91439,1.91439,1.83378,1.80888  \u2026  1.37762,1.37762,1.37762,1.37762,1.37762,1.37762,1.37762,1.37762,1.37762,1.37762])"
       ]
      }
     ],
     "prompt_number": 21
    },
    {
     "cell_type": "code",
     "collapsed": false,
     "input": [
      "figPolNdSn = FramedPlot(\n",
      "title=\"The value of f_{best}^{(k)} - f^{*} vs. iteration number for Polyak's step length\",\n",
      "         xlabel=\"k\",\n",
      "         ylabel=\"f_{best}^{(k)} - f^{*}\",\n",
      "yrange=(1e-3,1e1),\n",
      "ylog=true\n",
      ")\n",
      "xAxis=iters\n",
      "curvePol=fBestPol-fMinValue\n",
      "curveNd1=fBestNd1-fMinValue \n",
      "curveNd2=fBestNd2-fMinValue \n",
      "curveSn1=fBestSn1-fMinValue\n",
      "curveSn2=fBestSn2-fMinValue\n",
      "cn=Curve(xAxis, curvePol, color=\"cyan\")\n",
      "setattr(cn, label=\"Polyak's step length\")\n",
      "bl=Curve(xAxis, curveNd1, color=\"blue\")\n",
      "setattr(bl, label=\"0.1/sqrt(k)\")\n",
      "#gr=Curve(xAxis, curveNd2, color=\"green\")\n",
      "#setattr(gr, label=\"1/\u221ak\")\n",
      "re=Curve(xAxis, curveSn1, color=\"red\")\n",
      "setattr(re, label=\"1/k\")\n",
      "#blk=Curve(xAxis, curveSn2, color=\"black\")\n",
      "#setattr(blk, label=\"10/k\")\n",
      "le=Legend(.7,.9,{cn,bl,re})\n",
      "add(figPolNdSn, cn, bl,re, le)"
     ],
     "language": "python",
     "metadata": {},
     "outputs": [
      {
       "metadata": {},
       "output_type": "pyout",
       "png": "[encoded data removed]",
       "prompt_number": 22,
       "text": [
        "FramedPlot(...)"
       ]
      }
     ],
     "prompt_number": 22
    },
    {
     "cell_type": "markdown",
     "metadata": {},
     "source": [
      "In conclusion, we can say that no matter how cleverly we choose the step size, the subgradient method does not seem to improve significantly, it is structurally slow."
     ]
    }
   ],
   "metadata": {}
  }
 ]
}